{
 "cells": [
  {
   "cell_type": "code",
   "execution_count": 14,
   "id": "1babadda-4785-4a18-bfb9-64c12066169b",
   "metadata": {},
   "outputs": [],
   "source": [
    "import pandas as pd\n",
    "import numpy as np\n",
    "import sklearn\n",
    "from sklearn.datasets import load_digits\n",
    "import matplotlib.pyplot as plt\n",
    "from sklearn.model_selection import train_test_split\n",
    "from sklearn.neighbors import KNeighborsClassifier"
   ]
  },
  {
   "cell_type": "code",
   "execution_count": 3,
   "id": "db2e7647-203d-429c-9fca-a42f49a0f89c",
   "metadata": {},
   "outputs": [],
   "source": [
    "digits = load_digits()"
   ]
  },
  {
   "cell_type": "code",
   "execution_count": 4,
   "id": "bd3fb2ae-b13e-4768-9440-2d1ebc556262",
   "metadata": {},
   "outputs": [
    {
     "data": {
      "image/png": "[encoded data removed]",
      "text/plain": [
       "<Figure size 640x480 with 1 Axes>"
      ]
     },
     "metadata": {},
     "output_type": "display_data"
    }
   ],
   "source": [
    "image = plt.imshow(digits.images[13], cmap=plt.cm.gray_r)"
   ]
  },
  {
   "cell_type": "code",
   "execution_count": 5,
   "id": "bf9b09c6-e925-49a5-8d7f-78459f6c433c",
   "metadata": {},
   "outputs": [
    {
     "data": {
      "text/plain": [
       "array([[ 0.,  2.,  9., 15., 14.,  9.,  3.,  0.],\n",
       "       [ 0.,  4., 13.,  8.,  9., 16.,  8.,  0.],\n",
       "       [ 0.,  0.,  0.,  6., 14., 15.,  3.,  0.],\n",
       "       [ 0.,  0.,  0., 11., 14.,  2.,  0.,  0.],\n",
       "       [ 0.,  0.,  0.,  2., 15., 11.,  0.,  0.],\n",
       "       [ 0.,  0.,  0.,  0.,  2., 15.,  4.,  0.],\n",
       "       [ 0.,  1.,  5.,  6., 13., 16.,  6.,  0.],\n",
       "       [ 0.,  2., 12., 12., 13., 11.,  0.,  0.]])"
      ]
     },
     "execution_count": 5,
     "metadata": {},
     "output_type": "execute_result"
    }
   ],
   "source": [
    "digits.images[13]"
   ]
  },
  {
   "cell_type": "code",
   "execution_count": 6,
   "id": "b344873f-dde3-4bdb-9b5b-4202e2d06329",
   "metadata": {},
   "outputs": [
    {
     "data": {
      "text/plain": [
       "(1797, 64)"
      ]
     },
     "execution_count": 6,
     "metadata": {},
     "output_type": "execute_result"
    }
   ],
   "source": [
    "digits.data.shape"
   ]
  },
  {
   "cell_type": "code",
   "execution_count": 8,
   "id": "980de4f1-328b-4add-8475-02060c533865",
   "metadata": {},
   "outputs": [],
   "source": [
    "# to train the model we need to split the data into two sets\n",
    "# one set for training\n",
    "# and the other one for testing the accuracy of the model: we run the model on just the training, and then compare the models answers to the real data\n",
    "X_train, x_test, y_train, y_test = train_test_split(digits.data, digits.target, test_size = 0.3)"
   ]
  },
  {
   "cell_type": "code",
   "execution_count": 10,
   "id": "c3f1f540-d10d-4090-92d8-c71b8ee470b7",
   "metadata": {},
   "outputs": [
    {
     "data": {
      "text/plain": [
       "(1257, 64)"
      ]
     },
     "execution_count": 10,
     "metadata": {},
     "output_type": "execute_result"
    }
   ],
   "source": [
    "X_train.shape"
   ]
  },
  {
   "cell_type": "code",
   "execution_count": 11,
   "id": "5cbdaa44-07b1-4f61-b816-6df795985634",
   "metadata": {},
   "outputs": [
    {
     "data": {
      "text/plain": [
       "(540, 64)"
      ]
     },
     "execution_count": 11,
     "metadata": {},
     "output_type": "execute_result"
    }
   ],
   "source": [
    "x_test.shape"
   ]
  },
  {
   "cell_type": "code",
   "execution_count": 16,
   "id": "c8d7889f-1ecc-4868-bb63-b37bbfbb66a2",
   "metadata": {},
   "outputs": [],
   "source": [
    "knn = KNeighborsClassifier()"
   ]
  },
  {
   "cell_type": "code",
   "execution_count": 18,
   "id": "f5f567ee-4e97-4494-9b5d-d2d720b5bd46",
   "metadata": {},
   "outputs": [
    {
     "data": {
      "text/html": [
       "<style>#sk-container-id-1 {color: black;background-color: white;}#sk-container-id-1 pre{padding: 0;}#sk-container-id-1 div.sk-toggleable {background-color: white;}#sk-container-id-1 label.sk-toggleable__label {cursor: pointer;display: block;width: 100%;margin-bottom: 0;padding: 0.3em;box-sizing: border-box;text-align: center;}#sk-container-id-1 label.sk-toggleable__label-arrow:before {content: \"▸\";float: left;margin-right: 0.25em;color: #696969;}#sk-container-id-1 label.sk-toggleable__label-arrow:hover:before {color: black;}#sk-container-id-1 div.sk-estimator:hover label.sk-toggleable__label-arrow:before {color: black;}#sk-container-id-1 div.sk-toggleable__content {max-height: 0;max-width: 0;overflow: hidden;text-align: left;background-color: #f0f8ff;}#sk-container-id-1 div.sk-toggleable__content pre {margin: 0.2em;color: black;border-radius: 0.25em;background-color: #f0f8ff;}#sk-container-id-1 input.sk-toggleable__control:checked~div.sk-toggleable__content {max-height: 200px;max-width: 100%;overflow: auto;}#sk-container-id-1 input.sk-toggleable__control:checked~label.sk-toggleable__label-arrow:before {content: \"▾\";}#sk-container-id-1 div.sk-estimator input.sk-toggleable__control:checked~label.sk-toggleable__label {background-color: #d4ebff;}#sk-container-id-1 div.sk-label input.sk-toggleable__control:checked~label.sk-toggleable__label {background-color: #d4ebff;}#sk-container-id-1 input.sk-hidden--visually {border: 0;clip: rect(1px 1px 1px 1px);clip: rect(1px, 1px, 1px, 1px);height: 1px;margin: -1px;overflow: hidden;padding: 0;position: absolute;width: 1px;}#sk-container-id-1 div.sk-estimator {font-family: monospace;background-color: #f0f8ff;border: 1px dotted black;border-radius: 0.25em;box-sizing: border-box;margin-bottom: 0.5em;}#sk-container-id-1 div.sk-estimator:hover {background-color: #d4ebff;}#sk-container-id-1 div.sk-parallel-item::after {content: \"\";width: 100%;border-bottom: 1px solid gray;flex-grow: 1;}#sk-container-id-1 div.sk-label:hover label.sk-toggleable__label {background-color: #d4ebff;}#sk-container-id-1 div.sk-serial::before {content: \"\";position: absolute;border-left: 1px solid gray;box-sizing: border-box;top: 0;bottom: 0;left: 50%;z-index: 0;}#sk-container-id-1 div.sk-serial {display: flex;flex-direction: column;align-items: center;background-color: white;padding-right: 0.2em;padding-left: 0.2em;position: relative;}#sk-container-id-1 div.sk-item {position: relative;z-index: 1;}#sk-container-id-1 div.sk-parallel {display: flex;align-items: stretch;justify-content: center;background-color: white;position: relative;}#sk-container-id-1 div.sk-item::before, #sk-container-id-1 div.sk-parallel-item::before {content: \"\";position: absolute;border-left: 1px solid gray;box-sizing: border-box;top: 0;bottom: 0;left: 50%;z-index: -1;}#sk-container-id-1 div.sk-parallel-item {display: flex;flex-direction: column;z-index: 1;position: relative;background-color: white;}#sk-container-id-1 div.sk-parallel-item:first-child::after {align-self: flex-end;width: 50%;}#sk-container-id-1 div.sk-parallel-item:last-child::after {align-self: flex-start;width: 50%;}#sk-container-id-1 div.sk-parallel-item:only-child::after {width: 0;}#sk-container-id-1 div.sk-dashed-wrapped {border: 1px dashed gray;margin: 0 0.4em 0.5em 0.4em;box-sizing: border-box;padding-bottom: 0.4em;background-color: white;}#sk-container-id-1 div.sk-label label {font-family: monospace;font-weight: bold;display: inline-block;line-height: 1.2em;}#sk-container-id-1 div.sk-label-container {text-align: center;}#sk-container-id-1 div.sk-container {/* jupyter's `normalize.less` sets `[hidden] { display: none; }` but bootstrap.min.css set `[hidden] { display: none !important; }` so we also need the `!important` here to be able to override the default hidden behavior on the sphinx rendered scikit-learn.org. See: https://github.com/scikit-learn/scikit-learn/issues/21755 */display: inline-block !important;position: relative;}#sk-container-id-1 div.sk-text-repr-fallback {display: none;}</style><div id=\"sk-container-id-1\" class=\"sk-top-container\"><div class=\"sk-text-repr-fallback\"><pre>KNeighborsClassifier()</pre><b>In a Jupyter environment, please rerun this cell to show the HTML representation or trust the notebook. <br />On GitHub, the HTML representation is unable to render, please try loading this page with nbviewer.org.</b></div><div class=\"sk-container\" hidden><div class=\"sk-item\"><div class=\"sk-estimator sk-toggleable\"><input class=\"sk-toggleable__control sk-hidden--visually\" id=\"sk-estimator-id-1\" type=\"checkbox\" checked><label for=\"sk-estimator-id-1\" class=\"sk-toggleable__label sk-toggleable__label-arrow\">KNeighborsClassifier</label><div class=\"sk-toggleable__content\"><pre>KNeighborsClassifier()</pre></div></div></div></div></div>"
      ],
      "text/plain": [
       "KNeighborsClassifier()"
      ]
     },
     "execution_count": 18,
     "metadata": {},
     "output_type": "execute_result"
    }
   ],
   "source": [
    "knn.fit(X_train, y_train)"
   ]
  },
  {
   "cell_type": "code",
   "execution_count": 22,
   "id": "d7fa3dc3-42d7-4897-9b78-c5f8e075ed1d",
   "metadata": {},
   "outputs": [],
   "source": [
    "prediction = knn.predict(x_test)"
   ]
  },
  {
   "cell_type": "code",
   "execution_count": 23,
   "id": "79f8a41c-0d3f-47e4-90f6-a8ac6751b7eb",
   "metadata": {},
   "outputs": [
    {
     "data": {
      "text/plain": [
       "array([2, 4, 5, 2, 1, 9, 4, 9, 6, 0, 7, 5, 0, 7, 3, 9, 3, 8, 3, 7, 3, 1,\n",
       "       4, 7, 4, 2, 7, 0, 9, 7, 8, 8, 9, 8, 7, 8, 2, 0, 2, 3, 5, 7, 3, 3,\n",
       "       9, 4, 7, 4, 0, 9, 8, 8, 2, 1, 3, 7, 4, 5, 1, 5, 2, 1, 4, 5, 0, 4,\n",
       "       2, 7, 1, 1, 5, 0, 9, 5, 5, 0, 1, 3, 2, 8, 8, 8, 6, 9, 7, 5, 7, 5,\n",
       "       1, 4, 3, 7, 5, 7, 7, 9, 9, 7, 0, 8, 5, 3, 8, 3, 9, 9, 8, 1, 1, 0,\n",
       "       2, 7, 1, 4, 1, 4, 5, 0, 9, 3, 9, 0, 4, 7, 4, 1, 7, 2, 2, 6, 2, 4,\n",
       "       2, 3, 2, 6, 2, 8, 7, 1, 8, 0, 8, 8, 6, 6, 8, 3, 5, 3, 6, 0, 3, 5,\n",
       "       1, 7, 3, 6, 5, 8, 1, 6, 7, 4, 5, 2, 3, 8, 9, 7, 2, 7, 7, 3, 8, 6,\n",
       "       0, 2, 6, 3, 7, 7, 0, 6, 4, 5, 4, 1, 0, 7, 7, 4, 5, 8, 3, 0, 4, 9,\n",
       "       5, 0, 0, 8, 6, 2, 8, 8, 4, 0, 1, 6, 8, 9, 5, 5, 3, 3, 0, 2, 4, 7,\n",
       "       2, 2, 4, 8, 9, 2, 4, 2, 0, 6, 7, 2, 3, 1, 9, 8, 3, 2, 5, 1, 3, 0,\n",
       "       4, 9, 2, 2, 2, 2, 7, 6, 8, 7, 4, 1, 9, 8, 7, 4, 0, 8, 9, 6, 9, 9,\n",
       "       9, 1, 2, 2, 7, 0, 3, 3, 0, 8, 8, 1, 1, 1, 5, 4, 4, 6, 8, 2, 8, 7,\n",
       "       2, 7, 0, 6, 9, 3, 9, 4, 4, 2, 3, 1, 6, 7, 7, 8, 6, 9, 0, 3, 5, 8,\n",
       "       2, 0, 7, 4, 5, 2, 5, 9, 3, 4, 9, 0, 4, 8, 1, 4, 8, 3, 9, 7, 3, 9,\n",
       "       7, 5, 7, 7, 1, 3, 6, 5, 3, 2, 0, 9, 5, 7, 1, 6, 3, 8, 8, 5, 6, 7,\n",
       "       5, 1, 5, 7, 8, 3, 4, 5, 7, 6, 1, 7, 1, 0, 6, 4, 0, 0, 0, 5, 0, 1,\n",
       "       6, 8, 4, 1, 6, 5, 0, 1, 4, 5, 3, 0, 7, 2, 1, 6, 1, 0, 5, 0, 4, 4,\n",
       "       6, 9, 6, 9, 7, 5, 0, 0, 6, 5, 8, 5, 1, 3, 5, 9, 4, 7, 7, 6, 8, 0,\n",
       "       3, 6, 5, 1, 9, 4, 0, 5, 1, 6, 7, 9, 1, 4, 2, 4, 2, 1, 7, 0, 6, 1,\n",
       "       8, 9, 8, 1, 1, 5, 5, 3, 0, 7, 2, 9, 8, 4, 4, 2, 1, 9, 5, 9, 0, 5,\n",
       "       7, 0, 3, 5, 7, 8, 0, 1, 6, 7, 0, 3, 7, 9, 3, 2, 0, 3, 0, 0, 8, 2,\n",
       "       1, 5, 8, 8, 8, 1, 6, 1, 8, 8, 3, 9, 6, 7, 6, 1, 3, 2, 9, 3, 9, 7,\n",
       "       6, 0, 0, 6, 6, 2, 5, 2, 1, 2, 2, 4, 6, 2, 0, 6, 0, 8, 5, 9, 2, 9,\n",
       "       6, 3, 5, 2, 2, 0, 7, 7, 5, 6, 4, 3])"
      ]
     },
     "execution_count": 23,
     "metadata": {},
     "output_type": "execute_result"
    }
   ],
   "source": [
    "prediction"
   ]
  },
  {
   "cell_type": "code",
   "execution_count": 20,
   "id": "f46beb81-d96c-4721-998d-c6b4a37b5949",
   "metadata": {},
   "outputs": [
    {
     "data": {
      "text/plain": [
       "array([2, 4, 5, 2, 1, 9, 4, 9, 6, 0, 7, 5, 0, 7, 3, 9, 3, 8, 3, 7, 3, 1,\n",
       "       4, 7, 4, 2, 7, 0, 9, 7, 8, 8, 9, 8, 7, 8, 2, 0, 2, 3, 5, 7, 3, 3,\n",
       "       9, 4, 7, 4, 0, 9, 8, 8, 2, 1, 3, 7, 4, 5, 1, 5, 2, 1, 4, 5, 0, 4,\n",
       "       2, 7, 1, 1, 5, 0, 9, 5, 5, 0, 1, 3, 2, 8, 8, 8, 6, 9, 7, 5, 7, 5,\n",
       "       1, 4, 3, 7, 5, 4, 7, 9, 9, 7, 0, 8, 5, 3, 8, 3, 9, 9, 8, 1, 9, 0,\n",
       "       2, 7, 1, 4, 1, 4, 5, 0, 9, 3, 9, 0, 4, 7, 4, 1, 7, 2, 2, 6, 2, 4,\n",
       "       2, 3, 2, 6, 2, 8, 7, 1, 8, 0, 8, 8, 6, 6, 8, 3, 5, 3, 6, 0, 3, 5,\n",
       "       1, 7, 3, 6, 5, 8, 1, 6, 7, 4, 5, 2, 3, 8, 9, 7, 2, 7, 7, 3, 8, 6,\n",
       "       0, 2, 6, 3, 7, 7, 0, 6, 4, 5, 4, 1, 0, 7, 7, 4, 5, 8, 3, 0, 4, 9,\n",
       "       5, 0, 0, 9, 6, 2, 8, 8, 4, 0, 1, 6, 8, 9, 5, 5, 3, 3, 0, 2, 4, 7,\n",
       "       2, 2, 4, 8, 9, 2, 4, 2, 0, 6, 7, 2, 3, 1, 9, 8, 3, 2, 5, 1, 3, 0,\n",
       "       4, 9, 2, 2, 2, 2, 4, 6, 8, 7, 4, 1, 9, 8, 7, 4, 0, 8, 9, 6, 9, 9,\n",
       "       9, 1, 2, 2, 7, 0, 3, 3, 0, 8, 8, 1, 1, 1, 5, 4, 4, 6, 8, 2, 8, 7,\n",
       "       2, 7, 0, 6, 9, 3, 9, 4, 4, 2, 3, 1, 6, 7, 7, 8, 6, 9, 0, 3, 5, 8,\n",
       "       2, 0, 7, 4, 5, 2, 5, 9, 3, 4, 9, 0, 4, 8, 6, 4, 8, 3, 9, 7, 3, 9,\n",
       "       7, 5, 7, 7, 1, 3, 6, 5, 3, 2, 0, 9, 5, 7, 1, 6, 3, 8, 8, 5, 6, 7,\n",
       "       5, 1, 5, 7, 8, 3, 4, 5, 7, 6, 1, 7, 1, 0, 6, 4, 0, 0, 0, 5, 0, 1,\n",
       "       6, 8, 4, 1, 5, 5, 0, 1, 4, 5, 3, 0, 7, 2, 8, 6, 1, 0, 5, 0, 4, 4,\n",
       "       6, 9, 6, 9, 7, 5, 0, 0, 6, 5, 8, 5, 1, 3, 5, 9, 4, 7, 7, 6, 8, 0,\n",
       "       3, 6, 5, 1, 9, 4, 0, 5, 1, 6, 7, 9, 1, 4, 2, 4, 2, 1, 7, 0, 6, 8,\n",
       "       8, 9, 8, 1, 1, 5, 5, 3, 0, 7, 2, 9, 8, 4, 4, 2, 1, 9, 5, 9, 0, 5,\n",
       "       7, 0, 3, 5, 7, 8, 0, 1, 6, 7, 0, 3, 7, 9, 3, 2, 0, 3, 0, 0, 8, 2,\n",
       "       1, 5, 8, 8, 8, 1, 6, 1, 8, 8, 3, 9, 6, 7, 6, 8, 3, 2, 9, 3, 9, 7,\n",
       "       6, 0, 0, 6, 6, 2, 5, 2, 1, 2, 2, 4, 6, 2, 0, 6, 0, 8, 5, 9, 2, 9,\n",
       "       6, 3, 5, 2, 2, 0, 7, 7, 5, 6, 4, 3])"
      ]
     },
     "execution_count": 20,
     "metadata": {},
     "output_type": "execute_result"
    }
   ],
   "source": [
    "y_test"
   ]
  },
  {
   "cell_type": "code",
   "execution_count": 21,
   "id": "b7ed918b-6c22-4a8b-9de8-13f4a988c777",
   "metadata": {},
   "outputs": [
    {
     "data": {
      "text/plain": [
       "0.9833333333333333"
      ]
     },
     "execution_count": 21,
     "metadata": {},
     "output_type": "execute_result"
    }
   ],
   "source": [
    "knn.score(x_test, y_test)"
   ]
  },
  {
   "cell_type": "code",
   "execution_count": 24,
   "id": "cc31f8f8-585d-4e08-9611-a1edf331debc",
   "metadata": {},
   "outputs": [],
   "source": [
    "knn = KNeighborsClassifier(n_neighbors = 3)"
   ]
  },
  {
   "cell_type": "code",
   "execution_count": 26,
   "id": "abfcdd99-b32c-4658-bd2b-68c574dedcce",
   "metadata": {},
   "outputs": [
    {
     "data": {
      "text/html": [
       "<style>#sk-container-id-2 {color: black;background-color: white;}#sk-container-id-2 pre{padding: 0;}#sk-container-id-2 div.sk-toggleable {background-color: white;}#sk-container-id-2 label.sk-toggleable__label {cursor: pointer;display: block;width: 100%;margin-bottom: 0;padding: 0.3em;box-sizing: border-box;text-align: center;}#sk-container-id-2 label.sk-toggleable__label-arrow:before {content: \"▸\";float: left;margin-right: 0.25em;color: #696969;}#sk-container-id-2 label.sk-toggleable__label-arrow:hover:before {color: black;}#sk-container-id-2 div.sk-estimator:hover label.sk-toggleable__label-arrow:before {color: black;}#sk-container-id-2 div.sk-toggleable__content {max-height: 0;max-width: 0;overflow: hidden;text-align: left;background-color: #f0f8ff;}#sk-container-id-2 div.sk-toggleable__content pre {margin: 0.2em;color: black;border-radius: 0.25em;background-color: #f0f8ff;}#sk-container-id-2 input.sk-toggleable__control:checked~div.sk-toggleable__content {max-height: 200px;max-width: 100%;overflow: auto;}#sk-container-id-2 input.sk-toggleable__control:checked~label.sk-toggleable__label-arrow:before {content: \"▾\";}#sk-container-id-2 div.sk-estimator input.sk-toggleable__control:checked~label.sk-toggleable__label {background-color: #d4ebff;}#sk-container-id-2 div.sk-label input.sk-toggleable__control:checked~label.sk-toggleable__label {background-color: #d4ebff;}#sk-container-id-2 input.sk-hidden--visually {border: 0;clip: rect(1px 1px 1px 1px);clip: rect(1px, 1px, 1px, 1px);height: 1px;margin: -1px;overflow: hidden;padding: 0;position: absolute;width: 1px;}#sk-container-id-2 div.sk-estimator {font-family: monospace;background-color: #f0f8ff;border: 1px dotted black;border-radius: 0.25em;box-sizing: border-box;margin-bottom: 0.5em;}#sk-container-id-2 div.sk-estimator:hover {background-color: #d4ebff;}#sk-container-id-2 div.sk-parallel-item::after {content: \"\";width: 100%;border-bottom: 1px solid gray;flex-grow: 1;}#sk-container-id-2 div.sk-label:hover label.sk-toggleable__label {background-color: #d4ebff;}#sk-container-id-2 div.sk-serial::before {content: \"\";position: absolute;border-left: 1px solid gray;box-sizing: border-box;top: 0;bottom: 0;left: 50%;z-index: 0;}#sk-container-id-2 div.sk-serial {display: flex;flex-direction: column;align-items: center;background-color: white;padding-right: 0.2em;padding-left: 0.2em;position: relative;}#sk-container-id-2 div.sk-item {position: relative;z-index: 1;}#sk-container-id-2 div.sk-parallel {display: flex;align-items: stretch;justify-content: center;background-color: white;position: relative;}#sk-container-id-2 div.sk-item::before, #sk-container-id-2 div.sk-parallel-item::before {content: \"\";position: absolute;border-left: 1px solid gray;box-sizing: border-box;top: 0;bottom: 0;left: 50%;z-index: -1;}#sk-container-id-2 div.sk-parallel-item {display: flex;flex-direction: column;z-index: 1;position: relative;background-color: white;}#sk-container-id-2 div.sk-parallel-item:first-child::after {align-self: flex-end;width: 50%;}#sk-container-id-2 div.sk-parallel-item:last-child::after {align-self: flex-start;width: 50%;}#sk-container-id-2 div.sk-parallel-item:only-child::after {width: 0;}#sk-container-id-2 div.sk-dashed-wrapped {border: 1px dashed gray;margin: 0 0.4em 0.5em 0.4em;box-sizing: border-box;padding-bottom: 0.4em;background-color: white;}#sk-container-id-2 div.sk-label label {font-family: monospace;font-weight: bold;display: inline-block;line-height: 1.2em;}#sk-container-id-2 div.sk-label-container {text-align: center;}#sk-container-id-2 div.sk-container {/* jupyter's `normalize.less` sets `[hidden] { display: none; }` but bootstrap.min.css set `[hidden] { display: none !important; }` so we also need the `!important` here to be able to override the default hidden behavior on the sphinx rendered scikit-learn.org. See: https://github.com/scikit-learn/scikit-learn/issues/21755 */display: inline-block !important;position: relative;}#sk-container-id-2 div.sk-text-repr-fallback {display: none;}</style><div id=\"sk-container-id-2\" class=\"sk-top-container\"><div class=\"sk-text-repr-fallback\"><pre>KNeighborsClassifier(n_neighbors=3)</pre><b>In a Jupyter environment, please rerun this cell to show the HTML representation or trust the notebook. <br />On GitHub, the HTML representation is unable to render, please try loading this page with nbviewer.org.</b></div><div class=\"sk-container\" hidden><div class=\"sk-item\"><div class=\"sk-estimator sk-toggleable\"><input class=\"sk-toggleable__control sk-hidden--visually\" id=\"sk-estimator-id-2\" type=\"checkbox\" checked><label for=\"sk-estimator-id-2\" class=\"sk-toggleable__label sk-toggleable__label-arrow\">KNeighborsClassifier</label><div class=\"sk-toggleable__content\"><pre>KNeighborsClassifier(n_neighbors=3)</pre></div></div></div></div></div>"
      ],
      "text/plain": [
       "KNeighborsClassifier(n_neighbors=3)"
      ]
     },
     "execution_count": 26,
     "metadata": {},
     "output_type": "execute_result"
    }
   ],
   "source": [
    "knn.fit(X_train, y_train)"
   ]
  },
  {
   "cell_type": "code",
   "execution_count": 27,
   "id": "55f44786-854c-4135-860a-be3f299d66a0",
   "metadata": {},
   "outputs": [
    {
     "data": {
      "text/plain": [
       "0.9851851851851852"
      ]
     },
     "execution_count": 27,
     "metadata": {},
     "output_type": "execute_result"
    }
   ],
   "source": [
    "knn.score(x_test, y_test)"
   ]
  },
  {
   "cell_type": "code",
   "execution_count": 29,
   "id": "99a62034-5f66-4e80-9cdd-1da061e955d6",
   "metadata": {},
   "outputs": [
    {
     "data": {
      "text/plain": [
       "0.9796296296296296"
      ]
     },
     "execution_count": 29,
     "metadata": {},
     "output_type": "execute_result"
    }
   ],
   "source": [
    "knn2 = KNeighborsClassifier(n_neighbors = 9)\n",
    "knn2.fit(X_train, y_train)\n",
    "knn2.score(x_test, y_test)"
   ]
  },
  {
   "cell_type": "code",
   "execution_count": null,
   "id": "daa5f4fb-f230-4bb1-83ee-acf9493cfebd",
   "metadata": {},
   "outputs": [],
   "source": []
  }
 ],
 "metadata": {
  "kernelspec": {
   "display_name": "Python 3 (ipykernel)",
   "language": "python",
   "name": "python3"
  },
  "language_info": {
   "codemirror_mode": {
    "name": "ipython",
    "version": 3
   },
   "file_extension": ".py",
   "mimetype": "text/x-python",
   "name": "python",
   "nbconvert_exporter": "python",
   "pygments_lexer": "ipython3",
   "version": "3.11.7"
  }
 },
 "nbformat": 4,
 "nbformat_minor": 5
}
