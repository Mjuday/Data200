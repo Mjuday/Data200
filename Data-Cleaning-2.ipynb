{
 "cells": [
  {
   "cell_type": "markdown",
   "id": "2fc36a38",
   "metadata": {},
   "source": [
    "# Data Cleaning and Preparation"
   ]
  },
  {
   "cell_type": "markdown",
   "id": "c9103fb8",
   "metadata": {},
   "source": [
    "Discretization and Binning"
   ]
  },
  {
   "cell_type": "raw",
   "id": "58c21843",
   "metadata": {},
   "source": [
    "Separate data into bins for analysis"
   ]
  },
  {
   "cell_type": "code",
   "execution_count": 1,
   "id": "663ec289",
   "metadata": {},
   "outputs": [
    {
     "data": {
      "text/plain": [
       "[(18, 25], (18, 25], (18, 25], (25, 35], (18, 25], ..., (25, 35], (60, 100], (35, 60], (35, 60], (25, 35]]\n",
       "Length: 12\n",
       "Categories (4, interval[int64, right]): [(18, 25] < (25, 35] < (35, 60] < (60, 100]]"
      ]
     },
     "execution_count": 1,
     "metadata": {},
     "output_type": "execute_result"
    }
   ],
   "source": [
    "import pandas as pd\n",
    "\n",
    "ages = [20, 22, 25, 27, 21, 23, 37, 31, 61, 45, 41, 32]\n",
    "\n",
    "#Divide the ages into bins of 18 to 25, 26 to 35, 36 to 60, and 61 and older\n",
    "\n",
    "bins = [18, 25, 35, 60, 100]\n",
    "cats = pd.cut(ages, bins)\n",
    "cats"
   ]
  },
  {
   "cell_type": "code",
   "execution_count": 2,
   "id": "fdd810be",
   "metadata": {},
   "outputs": [],
   "source": [
    "# The object pandas returns is a special categorical object.\n",
    "# The output describes the bins computed by pandas.cut\n",
    "# The output is treated like an array of strings indicating the bin name\n",
    "# It contains a categories array specifying the distinct category names \n",
    "#along with a labeling of the ages data in the codes attribute"
   ]
  },
  {
   "cell_type": "code",
   "execution_count": 3,
   "id": "56f97987",
   "metadata": {},
   "outputs": [
    {
     "data": {
      "text/plain": [
       "array([0, 0, 0, 1, 0, 0, 2, 1, 3, 2, 2, 1], dtype=int8)"
      ]
     },
     "execution_count": 3,
     "metadata": {},
     "output_type": "execute_result"
    }
   ],
   "source": [
    "cats.codes"
   ]
  },
  {
   "cell_type": "code",
   "execution_count": 4,
   "id": "e0f2d53e",
   "metadata": {},
   "outputs": [
    {
     "data": {
      "text/plain": [
       "IntervalIndex([(18, 25], (25, 35], (35, 60], (60, 100]], dtype='interval[int64, right]')"
      ]
     },
     "execution_count": 4,
     "metadata": {},
     "output_type": "execute_result"
    }
   ],
   "source": [
    "cats.categories"
   ]
  },
  {
   "cell_type": "code",
   "execution_count": 5,
   "id": "548f8dd2",
   "metadata": {},
   "outputs": [
    {
     "data": {
      "text/plain": [
       "(18, 25]     5\n",
       "(25, 35]     3\n",
       "(35, 60]     3\n",
       "(60, 100]    1\n",
       "dtype: int64"
      ]
     },
     "execution_count": 5,
     "metadata": {},
     "output_type": "execute_result"
    }
   ],
   "source": [
    "pd.value_counts(cats)"
   ]
  },
  {
   "cell_type": "code",
   "execution_count": 7,
   "id": "27b62b79",
   "metadata": {},
   "outputs": [
    {
     "data": {
      "text/plain": [
       "[[18, 25), [18, 25), [25, 35), [25, 35), [18, 25), ..., [25, 35), [60, 100), [35, 60), [35, 60), [25, 35)]\n",
       "Length: 12\n",
       "Categories (4, interval[int64, left]): [[18, 25) < [25, 35) < [35, 60) < [60, 100)]"
      ]
     },
     "execution_count": 7,
     "metadata": {},
     "output_type": "execute_result"
    }
   ],
   "source": [
    "#Make the right bracket open\n",
    "pd.cut(ages, bins, right=False)"
   ]
  },
  {
   "cell_type": "code",
   "execution_count": 8,
   "id": "cc6e7271",
   "metadata": {},
   "outputs": [
    {
     "data": {
      "text/plain": [
       "['Youth', 'Youth', 'Youth', 'YoungAdult', 'Youth', ..., 'YoungAdult', 'Senior', 'MiddleAged', 'MiddleAged', 'YoungAdult']\n",
       "Length: 12\n",
       "Categories (4, object): ['Youth' < 'YoungAdult' < 'MiddleAged' < 'Senior']"
      ]
     },
     "execution_count": 8,
     "metadata": {},
     "output_type": "execute_result"
    }
   ],
   "source": [
    "#Give names to the categories\n",
    "group_names = ['Youth', 'YoungAdult', 'MiddleAged', 'Senior']\n",
    "pd.cut(ages, bins, labels=group_names)"
   ]
  },
  {
   "cell_type": "code",
   "execution_count": 9,
   "id": "d3b4d4a2",
   "metadata": {},
   "outputs": [
    {
     "data": {
      "text/plain": [
       "Youth         5\n",
       "YoungAdult    3\n",
       "MiddleAged    3\n",
       "Senior        1\n",
       "dtype: int64"
      ]
     },
     "execution_count": 9,
     "metadata": {},
     "output_type": "execute_result"
    }
   ],
   "source": [
    "cats2 = pd.cut(ages, bins, labels=group_names)\n",
    "pd.value_counts(cats2)"
   ]
  },
  {
   "cell_type": "code",
   "execution_count": 10,
   "id": "008fffdf",
   "metadata": {},
   "outputs": [
    {
     "data": {
      "text/plain": [
       "array([0.02306707, 0.68860253, 0.48178742, 0.40989692, 0.38055007,\n",
       "       0.27918344, 0.775431  , 0.57715458, 0.37087947, 0.73639779,\n",
       "       0.89841292, 0.93330422, 0.19061164, 0.67085412, 0.37742531,\n",
       "       0.58381466, 0.45116328, 0.74268543, 0.40412361, 0.26718128])"
      ]
     },
     "execution_count": 10,
     "metadata": {},
     "output_type": "execute_result"
    }
   ],
   "source": [
    "#Passing integer number of bins\n",
    "import numpy as np\n",
    "data = np.random.rand(20)\n",
    "data"
   ]
  },
  {
   "cell_type": "code",
   "execution_count": 11,
   "id": "bb703b68",
   "metadata": {},
   "outputs": [
    {
     "data": {
      "text/plain": [
       "[(0.022, 0.25], (0.48, 0.71], (0.48, 0.71], (0.25, 0.48], (0.25, 0.48], ..., (0.48, 0.71], (0.25, 0.48], (0.71, 0.93], (0.25, 0.48], (0.25, 0.48]]\n",
       "Length: 20\n",
       "Categories (4, interval[float64, right]): [(0.022, 0.25] < (0.25, 0.48] < (0.48, 0.71] < (0.71, 0.93]]"
      ]
     },
     "execution_count": 11,
     "metadata": {},
     "output_type": "execute_result"
    }
   ],
   "source": [
    "cats = pd.cut(data, 4, precision=2)\n",
    "cats"
   ]
  },
  {
   "cell_type": "code",
   "execution_count": 13,
   "id": "49f8b90e",
   "metadata": {},
   "outputs": [
    {
     "data": {
      "text/plain": [
       "(0.25, 0.48]     8\n",
       "(0.48, 0.71]     5\n",
       "(0.71, 0.93]     5\n",
       "(0.022, 0.25]    2\n",
       "dtype: int64"
      ]
     },
     "execution_count": 13,
     "metadata": {},
     "output_type": "execute_result"
    }
   ],
   "source": [
    "pd.value_counts(cats)"
   ]
  },
  {
   "cell_type": "code",
   "execution_count": 14,
   "id": "f374809b",
   "metadata": {},
   "outputs": [],
   "source": [
    "#qcut bins the data based on sample quantiles, depending on the \n",
    "# distribution of the data.\n",
    "# Each bin will have the same number of data points"
   ]
  },
  {
   "cell_type": "code",
   "execution_count": 15,
   "id": "58b53968",
   "metadata": {},
   "outputs": [
    {
     "data": {
      "text/plain": [
       "[(0.503, 0.752], (-1.500000000000004e-05, 0.234], (0.503, 0.752], (-1.500000000000004e-05, 0.234], (0.503, 0.752], ..., (0.752, 0.999], (0.503, 0.752], (0.752, 0.999], (0.503, 0.752], (0.234, 0.503]]\n",
       "Length: 1000\n",
       "Categories (4, interval[float64, right]): [(-1.500000000000004e-05, 0.234] < (0.234, 0.503] < (0.503, 0.752] < (0.752, 0.999]]"
      ]
     },
     "execution_count": 15,
     "metadata": {},
     "output_type": "execute_result"
    }
   ],
   "source": [
    "data = np.random.rand(1000)\n",
    "cats = pd.qcut(data,4)\n",
    "cats"
   ]
  },
  {
   "cell_type": "code",
   "execution_count": 16,
   "id": "3d09ba1c",
   "metadata": {},
   "outputs": [
    {
     "data": {
      "text/plain": [
       "(-1.500000000000004e-05, 0.234]    250\n",
       "(0.234, 0.503]                     250\n",
       "(0.503, 0.752]                     250\n",
       "(0.752, 0.999]                     250\n",
       "dtype: int64"
      ]
     },
     "execution_count": 16,
     "metadata": {},
     "output_type": "execute_result"
    }
   ],
   "source": [
    "pd.value_counts(cats)"
   ]
  },
  {
   "cell_type": "code",
   "execution_count": 17,
   "id": "8b9a3bc6",
   "metadata": {},
   "outputs": [],
   "source": [
    "# You can pass your own quantiles\n",
    "cats = pd.qcut(data, [0, 0.1, 0.5, 0.9, 1])"
   ]
  },
  {
   "cell_type": "code",
   "execution_count": 18,
   "id": "42b4f639",
   "metadata": {},
   "outputs": [
    {
     "data": {
      "text/plain": [
       "(0.0953, 0.503]                     400\n",
       "(0.503, 0.897]                      400\n",
       "(-1.500000000000004e-05, 0.0953]    100\n",
       "(0.897, 0.999]                      100\n",
       "dtype: int64"
      ]
     },
     "execution_count": 18,
     "metadata": {},
     "output_type": "execute_result"
    }
   ],
   "source": [
    "pd.value_counts(cats)"
   ]
  },
  {
   "cell_type": "markdown",
   "id": "72879682",
   "metadata": {},
   "source": [
    "Detecting and Filtering Outliers"
   ]
  },
  {
   "cell_type": "code",
   "execution_count": 19,
   "id": "61b888e2",
   "metadata": {},
   "outputs": [
    {
     "data": {
      "text/html": [
       "<div>\n",
       "<style scoped>\n",
       "    .dataframe tbody tr th:only-of-type {\n",
       "        vertical-align: middle;\n",
       "    }\n",
       "\n",
       "    .dataframe tbody tr th {\n",
       "        vertical-align: top;\n",
       "    }\n",
       "\n",
       "    .dataframe thead th {\n",
       "        text-align: right;\n",
       "    }\n",
       "</style>\n",
       "<table border=\"1\" class=\"dataframe\">\n",
       "  <thead>\n",
       "    <tr style=\"text-align: right;\">\n",
       "      <th></th>\n",
       "      <th>0</th>\n",
       "      <th>1</th>\n",
       "      <th>2</th>\n",
       "      <th>3</th>\n",
       "    </tr>\n",
       "  </thead>\n",
       "  <tbody>\n",
       "    <tr>\n",
       "      <th>0</th>\n",
       "      <td>1.363533</td>\n",
       "      <td>-0.088125</td>\n",
       "      <td>0.427747</td>\n",
       "      <td>1.124903</td>\n",
       "    </tr>\n",
       "    <tr>\n",
       "      <th>1</th>\n",
       "      <td>1.036658</td>\n",
       "      <td>1.866430</td>\n",
       "      <td>0.603163</td>\n",
       "      <td>-1.696285</td>\n",
       "    </tr>\n",
       "    <tr>\n",
       "      <th>2</th>\n",
       "      <td>1.421525</td>\n",
       "      <td>1.177118</td>\n",
       "      <td>0.049772</td>\n",
       "      <td>0.534240</td>\n",
       "    </tr>\n",
       "    <tr>\n",
       "      <th>3</th>\n",
       "      <td>0.043681</td>\n",
       "      <td>0.772190</td>\n",
       "      <td>0.759137</td>\n",
       "      <td>-0.184528</td>\n",
       "    </tr>\n",
       "    <tr>\n",
       "      <th>4</th>\n",
       "      <td>-2.028702</td>\n",
       "      <td>-1.270808</td>\n",
       "      <td>-0.774426</td>\n",
       "      <td>-0.764986</td>\n",
       "    </tr>\n",
       "    <tr>\n",
       "      <th>...</th>\n",
       "      <td>...</td>\n",
       "      <td>...</td>\n",
       "      <td>...</td>\n",
       "      <td>...</td>\n",
       "    </tr>\n",
       "    <tr>\n",
       "      <th>995</th>\n",
       "      <td>0.528049</td>\n",
       "      <td>1.099670</td>\n",
       "      <td>-0.753113</td>\n",
       "      <td>0.216052</td>\n",
       "    </tr>\n",
       "    <tr>\n",
       "      <th>996</th>\n",
       "      <td>0.636859</td>\n",
       "      <td>1.881588</td>\n",
       "      <td>0.008629</td>\n",
       "      <td>-0.740122</td>\n",
       "    </tr>\n",
       "    <tr>\n",
       "      <th>997</th>\n",
       "      <td>0.059114</td>\n",
       "      <td>-0.488941</td>\n",
       "      <td>0.138166</td>\n",
       "      <td>0.221155</td>\n",
       "    </tr>\n",
       "    <tr>\n",
       "      <th>998</th>\n",
       "      <td>-1.177525</td>\n",
       "      <td>0.576378</td>\n",
       "      <td>-0.167296</td>\n",
       "      <td>-0.581174</td>\n",
       "    </tr>\n",
       "    <tr>\n",
       "      <th>999</th>\n",
       "      <td>1.441475</td>\n",
       "      <td>0.347822</td>\n",
       "      <td>-0.702477</td>\n",
       "      <td>0.337472</td>\n",
       "    </tr>\n",
       "  </tbody>\n",
       "</table>\n",
       "<p>1000 rows × 4 columns</p>\n",
       "</div>"
      ],
      "text/plain": [
       "            0         1         2         3\n",
       "0    1.363533 -0.088125  0.427747  1.124903\n",
       "1    1.036658  1.866430  0.603163 -1.696285\n",
       "2    1.421525  1.177118  0.049772  0.534240\n",
       "3    0.043681  0.772190  0.759137 -0.184528\n",
       "4   -2.028702 -1.270808 -0.774426 -0.764986\n",
       "..        ...       ...       ...       ...\n",
       "995  0.528049  1.099670 -0.753113  0.216052\n",
       "996  0.636859  1.881588  0.008629 -0.740122\n",
       "997  0.059114 -0.488941  0.138166  0.221155\n",
       "998 -1.177525  0.576378 -0.167296 -0.581174\n",
       "999  1.441475  0.347822 -0.702477  0.337472\n",
       "\n",
       "[1000 rows x 4 columns]"
      ]
     },
     "execution_count": 19,
     "metadata": {},
     "output_type": "execute_result"
    }
   ],
   "source": [
    "#Applys array operations\n",
    "data = pd.DataFrame(np.random.randn(1000,4))\n",
    "data"
   ]
  },
  {
   "cell_type": "code",
   "execution_count": 20,
   "id": "26c47188",
   "metadata": {},
   "outputs": [
    {
     "data": {
      "text/html": [
       "<div>\n",
       "<style scoped>\n",
       "    .dataframe tbody tr th:only-of-type {\n",
       "        vertical-align: middle;\n",
       "    }\n",
       "\n",
       "    .dataframe tbody tr th {\n",
       "        vertical-align: top;\n",
       "    }\n",
       "\n",
       "    .dataframe thead th {\n",
       "        text-align: right;\n",
       "    }\n",
       "</style>\n",
       "<table border=\"1\" class=\"dataframe\">\n",
       "  <thead>\n",
       "    <tr style=\"text-align: right;\">\n",
       "      <th></th>\n",
       "      <th>0</th>\n",
       "      <th>1</th>\n",
       "      <th>2</th>\n",
       "      <th>3</th>\n",
       "    </tr>\n",
       "  </thead>\n",
       "  <tbody>\n",
       "    <tr>\n",
       "      <th>count</th>\n",
       "      <td>1000.000000</td>\n",
       "      <td>1000.000000</td>\n",
       "      <td>1000.000000</td>\n",
       "      <td>1000.000000</td>\n",
       "    </tr>\n",
       "    <tr>\n",
       "      <th>mean</th>\n",
       "      <td>-0.049574</td>\n",
       "      <td>-0.003423</td>\n",
       "      <td>-0.008027</td>\n",
       "      <td>0.043600</td>\n",
       "    </tr>\n",
       "    <tr>\n",
       "      <th>std</th>\n",
       "      <td>0.989682</td>\n",
       "      <td>1.024655</td>\n",
       "      <td>0.997067</td>\n",
       "      <td>0.990431</td>\n",
       "    </tr>\n",
       "    <tr>\n",
       "      <th>min</th>\n",
       "      <td>-3.564961</td>\n",
       "      <td>-3.225127</td>\n",
       "      <td>-3.119047</td>\n",
       "      <td>-3.402672</td>\n",
       "    </tr>\n",
       "    <tr>\n",
       "      <th>25%</th>\n",
       "      <td>-0.730819</td>\n",
       "      <td>-0.694318</td>\n",
       "      <td>-0.644127</td>\n",
       "      <td>-0.627896</td>\n",
       "    </tr>\n",
       "    <tr>\n",
       "      <th>50%</th>\n",
       "      <td>-0.043068</td>\n",
       "      <td>-0.026163</td>\n",
       "      <td>-0.032918</td>\n",
       "      <td>0.078573</td>\n",
       "    </tr>\n",
       "    <tr>\n",
       "      <th>75%</th>\n",
       "      <td>0.598990</td>\n",
       "      <td>0.647450</td>\n",
       "      <td>0.650682</td>\n",
       "      <td>0.721862</td>\n",
       "    </tr>\n",
       "    <tr>\n",
       "      <th>max</th>\n",
       "      <td>3.444798</td>\n",
       "      <td>3.026835</td>\n",
       "      <td>2.978420</td>\n",
       "      <td>3.541351</td>\n",
       "    </tr>\n",
       "  </tbody>\n",
       "</table>\n",
       "</div>"
      ],
      "text/plain": [
       "                 0            1            2            3\n",
       "count  1000.000000  1000.000000  1000.000000  1000.000000\n",
       "mean     -0.049574    -0.003423    -0.008027     0.043600\n",
       "std       0.989682     1.024655     0.997067     0.990431\n",
       "min      -3.564961    -3.225127    -3.119047    -3.402672\n",
       "25%      -0.730819    -0.694318    -0.644127    -0.627896\n",
       "50%      -0.043068    -0.026163    -0.032918     0.078573\n",
       "75%       0.598990     0.647450     0.650682     0.721862\n",
       "max       3.444798     3.026835     2.978420     3.541351"
      ]
     },
     "execution_count": 20,
     "metadata": {},
     "output_type": "execute_result"
    }
   ],
   "source": [
    "data.describe()"
   ]
  },
  {
   "cell_type": "code",
   "execution_count": 21,
   "id": "43b42ea9",
   "metadata": {},
   "outputs": [
    {
     "data": {
      "text/plain": [
       "17   -3.119047\n",
       "Name: 2, dtype: float64"
      ]
     },
     "execution_count": 21,
     "metadata": {},
     "output_type": "execute_result"
    }
   ],
   "source": [
    "#Find values of one of the columns exceeding 3 in absolute value\n",
    "col = data[2]\n",
    "col[np.abs(col) > 3]"
   ]
  },
  {
   "cell_type": "code",
   "execution_count": 26,
   "id": "5d1b9150",
   "metadata": {},
   "outputs": [
    {
     "data": {
      "text/html": [
       "<div>\n",
       "<style scoped>\n",
       "    .dataframe tbody tr th:only-of-type {\n",
       "        vertical-align: middle;\n",
       "    }\n",
       "\n",
       "    .dataframe tbody tr th {\n",
       "        vertical-align: top;\n",
       "    }\n",
       "\n",
       "    .dataframe thead th {\n",
       "        text-align: right;\n",
       "    }\n",
       "</style>\n",
       "<table border=\"1\" class=\"dataframe\">\n",
       "  <thead>\n",
       "    <tr style=\"text-align: right;\">\n",
       "      <th></th>\n",
       "      <th>0</th>\n",
       "      <th>1</th>\n",
       "      <th>2</th>\n",
       "      <th>3</th>\n",
       "    </tr>\n",
       "  </thead>\n",
       "  <tbody>\n",
       "    <tr>\n",
       "      <th>17</th>\n",
       "      <td>1.081151</td>\n",
       "      <td>0.045159</td>\n",
       "      <td>-3.119047</td>\n",
       "      <td>0.682757</td>\n",
       "    </tr>\n",
       "    <tr>\n",
       "      <th>151</th>\n",
       "      <td>-3.564961</td>\n",
       "      <td>0.394960</td>\n",
       "      <td>1.929402</td>\n",
       "      <td>0.258015</td>\n",
       "    </tr>\n",
       "    <tr>\n",
       "      <th>183</th>\n",
       "      <td>3.444798</td>\n",
       "      <td>0.242508</td>\n",
       "      <td>-0.821906</td>\n",
       "      <td>-0.639925</td>\n",
       "    </tr>\n",
       "    <tr>\n",
       "      <th>516</th>\n",
       "      <td>-1.126131</td>\n",
       "      <td>0.687878</td>\n",
       "      <td>1.305587</td>\n",
       "      <td>3.541351</td>\n",
       "    </tr>\n",
       "    <tr>\n",
       "      <th>540</th>\n",
       "      <td>0.324097</td>\n",
       "      <td>0.575900</td>\n",
       "      <td>1.359419</td>\n",
       "      <td>-3.139057</td>\n",
       "    </tr>\n",
       "    <tr>\n",
       "      <th>603</th>\n",
       "      <td>-0.279768</td>\n",
       "      <td>1.498356</td>\n",
       "      <td>1.811188</td>\n",
       "      <td>3.494139</td>\n",
       "    </tr>\n",
       "    <tr>\n",
       "      <th>691</th>\n",
       "      <td>0.998954</td>\n",
       "      <td>-0.461748</td>\n",
       "      <td>0.101801</td>\n",
       "      <td>3.294871</td>\n",
       "    </tr>\n",
       "    <tr>\n",
       "      <th>770</th>\n",
       "      <td>0.809136</td>\n",
       "      <td>-3.225127</td>\n",
       "      <td>-1.012992</td>\n",
       "      <td>1.187265</td>\n",
       "    </tr>\n",
       "    <tr>\n",
       "      <th>776</th>\n",
       "      <td>-1.434486</td>\n",
       "      <td>1.055077</td>\n",
       "      <td>0.125609</td>\n",
       "      <td>-3.402672</td>\n",
       "    </tr>\n",
       "    <tr>\n",
       "      <th>912</th>\n",
       "      <td>0.176124</td>\n",
       "      <td>3.026835</td>\n",
       "      <td>1.283175</td>\n",
       "      <td>-0.968402</td>\n",
       "    </tr>\n",
       "  </tbody>\n",
       "</table>\n",
       "</div>"
      ],
      "text/plain": [
       "            0         1         2         3\n",
       "17   1.081151  0.045159 -3.119047  0.682757\n",
       "151 -3.564961  0.394960  1.929402  0.258015\n",
       "183  3.444798  0.242508 -0.821906 -0.639925\n",
       "516 -1.126131  0.687878  1.305587  3.541351\n",
       "540  0.324097  0.575900  1.359419 -3.139057\n",
       "603 -0.279768  1.498356  1.811188  3.494139\n",
       "691  0.998954 -0.461748  0.101801  3.294871\n",
       "770  0.809136 -3.225127 -1.012992  1.187265\n",
       "776 -1.434486  1.055077  0.125609 -3.402672\n",
       "912  0.176124  3.026835  1.283175 -0.968402"
      ]
     },
     "execution_count": 26,
     "metadata": {},
     "output_type": "execute_result"
    }
   ],
   "source": [
    "# Select all the rows having a value exceeding 3 or -3\n",
    "data[(np.abs(data)>3).any(1)]"
   ]
  },
  {
   "cell_type": "code",
   "execution_count": 27,
   "id": "3a9b84db",
   "metadata": {},
   "outputs": [],
   "source": [
    "#Any checkes for each row if there is at \n",
    "#least one 'True' value across its column \n",
    "# 1 determine the axis"
   ]
  },
  {
   "cell_type": "code",
   "execution_count": 28,
   "id": "bad277c1",
   "metadata": {},
   "outputs": [
    {
     "data": {
      "text/html": [
       "<div>\n",
       "<style scoped>\n",
       "    .dataframe tbody tr th:only-of-type {\n",
       "        vertical-align: middle;\n",
       "    }\n",
       "\n",
       "    .dataframe tbody tr th {\n",
       "        vertical-align: top;\n",
       "    }\n",
       "\n",
       "    .dataframe thead th {\n",
       "        text-align: right;\n",
       "    }\n",
       "</style>\n",
       "<table border=\"1\" class=\"dataframe\">\n",
       "  <thead>\n",
       "    <tr style=\"text-align: right;\">\n",
       "      <th></th>\n",
       "      <th>0</th>\n",
       "      <th>1</th>\n",
       "      <th>2</th>\n",
       "      <th>3</th>\n",
       "    </tr>\n",
       "  </thead>\n",
       "  <tbody>\n",
       "    <tr>\n",
       "      <th>0</th>\n",
       "      <td>1.0</td>\n",
       "      <td>-1.0</td>\n",
       "      <td>1.0</td>\n",
       "      <td>1.0</td>\n",
       "    </tr>\n",
       "    <tr>\n",
       "      <th>1</th>\n",
       "      <td>1.0</td>\n",
       "      <td>1.0</td>\n",
       "      <td>1.0</td>\n",
       "      <td>-1.0</td>\n",
       "    </tr>\n",
       "    <tr>\n",
       "      <th>2</th>\n",
       "      <td>1.0</td>\n",
       "      <td>1.0</td>\n",
       "      <td>1.0</td>\n",
       "      <td>1.0</td>\n",
       "    </tr>\n",
       "    <tr>\n",
       "      <th>3</th>\n",
       "      <td>1.0</td>\n",
       "      <td>1.0</td>\n",
       "      <td>1.0</td>\n",
       "      <td>-1.0</td>\n",
       "    </tr>\n",
       "    <tr>\n",
       "      <th>4</th>\n",
       "      <td>-1.0</td>\n",
       "      <td>-1.0</td>\n",
       "      <td>-1.0</td>\n",
       "      <td>-1.0</td>\n",
       "    </tr>\n",
       "    <tr>\n",
       "      <th>...</th>\n",
       "      <td>...</td>\n",
       "      <td>...</td>\n",
       "      <td>...</td>\n",
       "      <td>...</td>\n",
       "    </tr>\n",
       "    <tr>\n",
       "      <th>995</th>\n",
       "      <td>1.0</td>\n",
       "      <td>1.0</td>\n",
       "      <td>-1.0</td>\n",
       "      <td>1.0</td>\n",
       "    </tr>\n",
       "    <tr>\n",
       "      <th>996</th>\n",
       "      <td>1.0</td>\n",
       "      <td>1.0</td>\n",
       "      <td>1.0</td>\n",
       "      <td>-1.0</td>\n",
       "    </tr>\n",
       "    <tr>\n",
       "      <th>997</th>\n",
       "      <td>1.0</td>\n",
       "      <td>-1.0</td>\n",
       "      <td>1.0</td>\n",
       "      <td>1.0</td>\n",
       "    </tr>\n",
       "    <tr>\n",
       "      <th>998</th>\n",
       "      <td>-1.0</td>\n",
       "      <td>1.0</td>\n",
       "      <td>-1.0</td>\n",
       "      <td>-1.0</td>\n",
       "    </tr>\n",
       "    <tr>\n",
       "      <th>999</th>\n",
       "      <td>1.0</td>\n",
       "      <td>1.0</td>\n",
       "      <td>-1.0</td>\n",
       "      <td>1.0</td>\n",
       "    </tr>\n",
       "  </tbody>\n",
       "</table>\n",
       "<p>1000 rows × 4 columns</p>\n",
       "</div>"
      ],
      "text/plain": [
       "       0    1    2    3\n",
       "0    1.0 -1.0  1.0  1.0\n",
       "1    1.0  1.0  1.0 -1.0\n",
       "2    1.0  1.0  1.0  1.0\n",
       "3    1.0  1.0  1.0 -1.0\n",
       "4   -1.0 -1.0 -1.0 -1.0\n",
       "..   ...  ...  ...  ...\n",
       "995  1.0  1.0 -1.0  1.0\n",
       "996  1.0  1.0  1.0 -1.0\n",
       "997  1.0 -1.0  1.0  1.0\n",
       "998 -1.0  1.0 -1.0 -1.0\n",
       "999  1.0  1.0 -1.0  1.0\n",
       "\n",
       "[1000 rows x 4 columns]"
      ]
     },
     "execution_count": 28,
     "metadata": {},
     "output_type": "execute_result"
    }
   ],
   "source": [
    "# Produces 1 and -1 values based on whether the values in data\n",
    "# are positive or negative\n",
    "np.sign(data)"
   ]
  },
  {
   "cell_type": "code",
   "execution_count": 29,
   "id": "acb3d6af",
   "metadata": {},
   "outputs": [
    {
     "data": {
      "text/html": [
       "<div>\n",
       "<style scoped>\n",
       "    .dataframe tbody tr th:only-of-type {\n",
       "        vertical-align: middle;\n",
       "    }\n",
       "\n",
       "    .dataframe tbody tr th {\n",
       "        vertical-align: top;\n",
       "    }\n",
       "\n",
       "    .dataframe thead th {\n",
       "        text-align: right;\n",
       "    }\n",
       "</style>\n",
       "<table border=\"1\" class=\"dataframe\">\n",
       "  <thead>\n",
       "    <tr style=\"text-align: right;\">\n",
       "      <th></th>\n",
       "      <th>0</th>\n",
       "      <th>1</th>\n",
       "      <th>2</th>\n",
       "      <th>3</th>\n",
       "    </tr>\n",
       "  </thead>\n",
       "  <tbody>\n",
       "    <tr>\n",
       "      <th>0</th>\n",
       "      <td>1.0</td>\n",
       "      <td>-1.0</td>\n",
       "      <td>1.0</td>\n",
       "      <td>1.0</td>\n",
       "    </tr>\n",
       "    <tr>\n",
       "      <th>1</th>\n",
       "      <td>1.0</td>\n",
       "      <td>1.0</td>\n",
       "      <td>1.0</td>\n",
       "      <td>-1.0</td>\n",
       "    </tr>\n",
       "    <tr>\n",
       "      <th>2</th>\n",
       "      <td>1.0</td>\n",
       "      <td>1.0</td>\n",
       "      <td>1.0</td>\n",
       "      <td>1.0</td>\n",
       "    </tr>\n",
       "    <tr>\n",
       "      <th>3</th>\n",
       "      <td>1.0</td>\n",
       "      <td>1.0</td>\n",
       "      <td>1.0</td>\n",
       "      <td>-1.0</td>\n",
       "    </tr>\n",
       "    <tr>\n",
       "      <th>4</th>\n",
       "      <td>-1.0</td>\n",
       "      <td>-1.0</td>\n",
       "      <td>-1.0</td>\n",
       "      <td>-1.0</td>\n",
       "    </tr>\n",
       "  </tbody>\n",
       "</table>\n",
       "</div>"
      ],
      "text/plain": [
       "     0    1    2    3\n",
       "0  1.0 -1.0  1.0  1.0\n",
       "1  1.0  1.0  1.0 -1.0\n",
       "2  1.0  1.0  1.0  1.0\n",
       "3  1.0  1.0  1.0 -1.0\n",
       "4 -1.0 -1.0 -1.0 -1.0"
      ]
     },
     "execution_count": 29,
     "metadata": {},
     "output_type": "execute_result"
    }
   ],
   "source": [
    "np.sign(data).head()"
   ]
  },
  {
   "cell_type": "code",
   "execution_count": 30,
   "id": "b989a21c",
   "metadata": {},
   "outputs": [
    {
     "data": {
      "text/html": [
       "<div>\n",
       "<style scoped>\n",
       "    .dataframe tbody tr th:only-of-type {\n",
       "        vertical-align: middle;\n",
       "    }\n",
       "\n",
       "    .dataframe tbody tr th {\n",
       "        vertical-align: top;\n",
       "    }\n",
       "\n",
       "    .dataframe thead th {\n",
       "        text-align: right;\n",
       "    }\n",
       "</style>\n",
       "<table border=\"1\" class=\"dataframe\">\n",
       "  <thead>\n",
       "    <tr style=\"text-align: right;\">\n",
       "      <th></th>\n",
       "      <th>0</th>\n",
       "      <th>1</th>\n",
       "      <th>2</th>\n",
       "      <th>3</th>\n",
       "    </tr>\n",
       "  </thead>\n",
       "  <tbody>\n",
       "    <tr>\n",
       "      <th>0</th>\n",
       "      <td>1.363533</td>\n",
       "      <td>-0.088125</td>\n",
       "      <td>0.427747</td>\n",
       "      <td>1.124903</td>\n",
       "    </tr>\n",
       "    <tr>\n",
       "      <th>1</th>\n",
       "      <td>1.036658</td>\n",
       "      <td>1.866430</td>\n",
       "      <td>0.603163</td>\n",
       "      <td>-1.696285</td>\n",
       "    </tr>\n",
       "    <tr>\n",
       "      <th>2</th>\n",
       "      <td>1.421525</td>\n",
       "      <td>1.177118</td>\n",
       "      <td>0.049772</td>\n",
       "      <td>0.534240</td>\n",
       "    </tr>\n",
       "    <tr>\n",
       "      <th>3</th>\n",
       "      <td>0.043681</td>\n",
       "      <td>0.772190</td>\n",
       "      <td>0.759137</td>\n",
       "      <td>-0.184528</td>\n",
       "    </tr>\n",
       "    <tr>\n",
       "      <th>4</th>\n",
       "      <td>-2.028702</td>\n",
       "      <td>-1.270808</td>\n",
       "      <td>-0.774426</td>\n",
       "      <td>-0.764986</td>\n",
       "    </tr>\n",
       "  </tbody>\n",
       "</table>\n",
       "</div>"
      ],
      "text/plain": [
       "          0         1         2         3\n",
       "0  1.363533 -0.088125  0.427747  1.124903\n",
       "1  1.036658  1.866430  0.603163 -1.696285\n",
       "2  1.421525  1.177118  0.049772  0.534240\n",
       "3  0.043681  0.772190  0.759137 -0.184528\n",
       "4 -2.028702 -1.270808 -0.774426 -0.764986"
      ]
     },
     "execution_count": 30,
     "metadata": {},
     "output_type": "execute_result"
    }
   ],
   "source": [
    "data.head()"
   ]
  },
  {
   "cell_type": "code",
   "execution_count": null,
   "id": "c5d6ffe5",
   "metadata": {},
   "outputs": [],
   "source": []
  }
 ],
 "metadata": {
  "kernelspec": {
   "display_name": "Python 3 (ipykernel)",
   "language": "python",
   "name": "python3"
  },
  "language_info": {
   "codemirror_mode": {
    "name": "ipython",
    "version": 3
   },
   "file_extension": ".py",
   "mimetype": "text/x-python",
   "name": "python",
   "nbconvert_exporter": "python",
   "pygments_lexer": "ipython3",
   "version": "3.9.12"
  }
 },
 "nbformat": 4,
 "nbformat_minor": 5
}
