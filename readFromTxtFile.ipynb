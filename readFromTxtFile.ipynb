{
 "cells": [
  {
   "cell_type": "code",
   "execution_count": 4,
   "metadata": {},
   "outputs": [],
   "source": [
    "# input_file = open(\"nameoffile\", 'r') the 'r' is for read\n",
    "#number = input_file.readline()\n",
    "#number\n",
    "# input_file.close()"
   ]
  },
  {
   "cell_type": "code",
   "execution_count": 2,
   "metadata": {},
   "outputs": [],
   "source": [
    "#three instructions to read from a file\n",
    "#1. readline(): reads one line from the text file\n",
    "#2. read(): reads the whole text file as a string and returns the contents as a single string\n",
    "#3. readlines(): reads the whole text file and returns a list, each element of the list in one line"
   ]
  },
  {
   "cell_type": "code",
   "execution_count": 3,
   "metadata": {},
   "outputs": [],
   "source": [
    "# readline instructions to read the whole file\n",
    "# for i in range(10):\n",
    "# input_file.readline()"
   ]
  },
  {
   "cell_type": "code",
   "execution_count": 5,
   "metadata": {},
   "outputs": [],
   "source": [
    "# read the whole text file as a string\n",
    "# input_file = open(\"nameoffile\", 'r')\n",
    "# print(input_file.read())\n",
    "# input_file.close()"
   ]
  },
  {
   "cell_type": "code",
   "execution_count": null,
   "metadata": {},
   "outputs": [],
   "source": [
    "# how to make the file into a list\n",
    "# input_file = open(\"nameoffile\", 'r')\n",
    "# file_list = print(input_file.readlines())\n",
    "# input_file.close()\n",
    "# file_list"
   ]
  }
 ],
 "metadata": {
  "kernelspec": {
   "display_name": "Python 3",
   "language": "python",
   "name": "python3"
  },
  "language_info": {
   "codemirror_mode": {
    "name": "ipython",
    "version": 3
   },
   "file_extension": ".py",
   "mimetype": "text/x-python",
   "name": "python",
   "nbconvert_exporter": "python",
   "pygments_lexer": "ipython3",
   "version": "3.10.13"
  }
 },
 "nbformat": 4,
 "nbformat_minor": 2
}
