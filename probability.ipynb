{
 "cells": [
  {
   "cell_type": "markdown",
   "metadata": {},
   "source": [
    "# Probability"
   ]
  },
  {
   "cell_type": "code",
   "execution_count": 1,
   "metadata": {},
   "outputs": [],
   "source": [
    "import pandas as pd\n",
    "import numpy as np\n",
    "import random"
   ]
  },
  {
   "cell_type": "markdown",
   "metadata": {},
   "source": [
    "## family problem"
   ]
  },
  {
   "cell_type": "markdown",
   "metadata": {},
   "source": [
    "A family with unknown children, if we assume that:\n",
    "* each child is equally likely to be a boy or a girl\n",
    "* the gender of the second child is independant from the first child"
   ]
  },
  {
   "cell_type": "markdown",
   "metadata": {},
   "source": [
    "What is the probability of the event that both children of girls, conditionally in the event the older child is a girl?\n",
    "\n",
    "What is the probability of the event that both children are girls, conditionally in the event that at least one child is a girl?"
   ]
  },
  {
   "cell_type": "code",
   "execution_count": 4,
   "metadata": {},
   "outputs": [
    {
     "name": "stdout",
     "output_type": "stream",
     "text": [
      "the probability of the event both girls given that the older is a girl: \n",
      "0.539714867617108\n",
      "the probability of the event both are girls given that at least one is a girl: \n",
      "0.3523936170212766\n"
     ]
    }
   ],
   "source": [
    "def random_kid():\n",
    "    return random.choice([\"girl\", \"boy\"])\n",
    "\n",
    "both_girls = 0\n",
    "older_girl = 0\n",
    "either_girl = 0 \n",
    "\n",
    "for _ in range(1000):\n",
    "    younger = random_kid()\n",
    "    older = random_kid()\n",
    "    if older == \"girl\":\n",
    "        older_girl += 1\n",
    "    if older == \"girl\" and younger == \"girl\": #older and younger are girls\n",
    "        both_girls += 1\n",
    "    if older == \"girl\" or younger == \"girl\": # at least one child is a girl\n",
    "        either_girl += 1\n",
    "\n",
    "print(\"the probability of the event both girls given that the older is a girl: \")\n",
    "print(both_girls/older_girl)\n",
    "print(\"the probability of the event both are girls given that at least one is a girl: \")\n",
    "print(both_girls/either_girl)\n"
   ]
  },
  {
   "cell_type": "code",
   "execution_count": null,
   "metadata": {},
   "outputs": [],
   "source": []
  }
 ],
 "metadata": {
  "kernelspec": {
   "display_name": "Python 3",
   "language": "python",
   "name": "python3"
  },
  "language_info": {
   "codemirror_mode": {
    "name": "ipython",
    "version": 3
   },
   "file_extension": ".py",
   "mimetype": "text/x-python",
   "name": "python",
   "nbconvert_exporter": "python",
   "pygments_lexer": "ipython3",
   "version": "3.10.13"
  }
 },
 "nbformat": 4,
 "nbformat_minor": 2
}
