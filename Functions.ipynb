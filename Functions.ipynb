{
 "cells": [
  {
   "cell_type": "markdown",
   "metadata": {},
   "source": [
    "This notebook will have functions in python as a refresher"
   ]
  },
  {
   "cell_type": "markdown",
   "metadata": {},
   "source": [
    "Time Application:\n",
    "\n",
    "    user enter hour\n",
    "\n",
    "        between 0 - 23\n",
    "\n",
    "        need to have function to validate hours\n",
    "\n",
    "    enter the minute\n",
    "\n",
    "        between 0 - 59\n",
    "\n",
    "        must have function to validate minutes\n",
    "\n",
    "    print\n",
    "    \n",
    "        the time the user asked for\n"
   ]
  },
  {
   "cell_type": "code",
   "execution_count": 3,
   "metadata": {},
   "outputs": [
    {
     "name": "stdout",
     "output_type": "stream",
     "text": [
      "Enter a time: hours, followed by minutes \n",
      "22 : 59\n"
     ]
    }
   ],
   "source": [
    "# one function to read and validate any value between [low, high]\n",
    "def readIntBetween(low, high):\n",
    "    value = int(input(\"enter a value between \"+str(low)+\" and \"+str(high)+\" : \"))\n",
    "    while value < low or value > high:\n",
    "        value = int(input(\"enter a value between \"+str(low)+\" and \"+str(high)+\" : \"))\n",
    "    return value\n",
    "\n",
    "def main():\n",
    "    print(\"Enter a time: hours, followed by minutes \")\n",
    "    hours = readIntBetween(0,23)\n",
    "    minutes = readIntBetween(0,59)\n",
    "    print(hours, \":\", minutes)\n",
    "\n",
    "main()\n",
    "        "
   ]
  },
  {
   "cell_type": "markdown",
   "metadata": {},
   "source": [
    "in the following program, i will ask for a team number and then convert it from a number to a word"
   ]
  },
  {
   "cell_type": "code",
   "execution_count": null,
   "metadata": {},
   "outputs": [],
   "source": [
    "def int_name(number):\n",
    "    part = number #the part of the number needed to process\n",
    "    name = \" \" # the name of the number \n",
    "\n",
    "    if part >= 100:\n",
    "        name = digit_name(part//100) + \"Hundred\" #digit name returns the digit name\n",
    "    if part >= 20:\n",
    "        \n",
    "\n",
    "def digit_name(digit):\n",
    "    if digit == 1:\n",
    "        return \"one\"\n",
    "    if digit == 2:\n",
    "        return \"two\"\n",
    "    if digit == 3:\n",
    "        return \"three\"\n",
    "    if digit == 4:\n",
    "        return \"four\"\n",
    "    if digit == 5:\n",
    "        return \"five\"\n",
    "    if digit == 6:\n",
    "        return \"six\"\n",
    "    if digit == 7:\n",
    "        return \"seven\"\n",
    "    if digit == 8:\n",
    "        return \"eight\"\n",
    "    if digit == 9:\n",
    "        return \"nine\"\n",
    "    return \"\"\n",
    "\n",
    "def teen_name(number):\n",
    "    if number == 10:\n",
    "        return \"ten\"\n",
    "    if number == 11:\n",
    "        return \"eleven\"\n",
    "    if number == 12:\n",
    "        return \"twelve\"\n",
    "    if number == 13:\n",
    "        return \"thirteen\"\n",
    "    if number == 14:\n",
    "        return \"fourteen\"\n",
    "    if number == 15:\n",
    "        return \"fifteen\"\n",
    "    if number == 16:\n",
    "        return \"sixteen\"\n",
    "    if number == 17:\n",
    "        return \"seventeen\"\n",
    "    if number == 18:\n",
    "        return \"eighteen\"\n",
    "    if number == 19:\n",
    "        return \"nineteen\n",
    "    return \"\""
   ]
  }
 ],
 "metadata": {
  "kernelspec": {
   "display_name": "Python 3",
   "language": "python",
   "name": "python3"
  },
  "language_info": {
   "codemirror_mode": {
    "name": "ipython",
    "version": 3
   },
   "file_extension": ".py",
   "mimetype": "text/x-python",
   "name": "python",
   "nbconvert_exporter": "python",
   "pygments_lexer": "ipython3",
   "version": "3.10.13"
  }
 },
 "nbformat": 4,
 "nbformat_minor": 2
}
