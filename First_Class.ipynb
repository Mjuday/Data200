{
 "cells": [
  {
   "cell_type": "markdown",
   "metadata": {},
   "source": [
    "This is my first notebook for Spring 2024"
   ]
  },
  {
   "cell_type": "code",
   "execution_count": 2,
   "metadata": {},
   "outputs": [
    {
     "name": "stdout",
     "output_type": "stream",
     "text": [
      "hello world\n"
     ]
    }
   ],
   "source": [
    "print(\"hello world\")"
   ]
  },
  {
   "cell_type": "markdown",
   "metadata": {},
   "source": [
    "This program is for grading a multiple choice exam in which each question can only have 4 possible choices: a, b, c, or d"
   ]
  },
  {
   "cell_type": "code",
   "execution_count": null,
   "metadata": {},
   "outputs": [],
   "source": [
    "Correct_answers = \"a b c c d a d\"\n",
    "\n",
    "#making sure there is the correct number of answers\n",
    "done = False\n",
    "while not done:\n",
    "    user_answers = input(\"Enter the answer to the quiz questions with a single space\")\n",
    "    if len(Correct_answers) == len(user_answers):\n",
    "        done = True\n",
    "    else:\n",
    "        print(\"error: you did not enter the right number of answers or used the wrong format\")\n",
    "for range(user_answers)\n",
    "user_correct_answers = \n",
    "#if Correct_answers == user_answers:\n",
    "    #print(\"Great Job, You got 100% of the answers right!\")\n",
    "#else:\n",
    "    #print(\"Sorry, but you did not get all of the questions correct\")\n",
    "    #print(\"this is the number of questions you got incorrect: \")"
   ]
  }
 ],
 "metadata": {
  "kernelspec": {
   "display_name": "Python 3",
   "language": "python",
   "name": "python3"
  },
  "language_info": {
   "codemirror_mode": {
    "name": "ipython",
    "version": 3
   },
   "file_extension": ".py",
   "mimetype": "text/x-python",
   "name": "python",
   "nbconvert_exporter": "python",
   "pygments_lexer": "ipython3",
   "version": "3.10.13"
  }
 },
 "nbformat": 4,
 "nbformat_minor": 2
}
