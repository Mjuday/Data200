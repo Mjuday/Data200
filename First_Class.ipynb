{
 "cells": [
  {
   "cell_type": "markdown",
   "metadata": {},
   "source": [
    "This is my first notebook for Spring 2024"
   ]
  },
  {
   "cell_type": "code",
   "execution_count": 7,
   "metadata": {},
   "outputs": [],
   "source": [
    "from random import randint"
   ]
  },
  {
   "cell_type": "code",
   "execution_count": 2,
   "metadata": {},
   "outputs": [
    {
     "name": "stdout",
     "output_type": "stream",
     "text": [
      "hello world\n"
     ]
    }
   ],
   "source": [
    "print(\"hello world\")"
   ]
  },
  {
   "cell_type": "markdown",
   "metadata": {},
   "source": [
    "This program is for grading a multiple choice exam in which each question can only have 4 possible choices: a, b, c, or d"
   ]
  },
  {
   "cell_type": "code",
   "execution_count": 5,
   "metadata": {},
   "outputs": [
    {
     "name": "stdout",
     "output_type": "stream",
     "text": [
      "you missed 2 a b c c X a d c X b\n",
      "Your score was 89\n"
     ]
    }
   ],
   "source": [
    "Correct_answers = \"a b c c d a d c a b\"\n",
    "\n",
    "#making sure there is the correct number of answers\n",
    "done = False\n",
    "while not done:\n",
    "    user_answers = input(\"Enter the answer to the quiz questions with a single space\")\n",
    "    if len(Correct_answers) == len(user_answers):\n",
    "        done = True\n",
    "    else:\n",
    "        print(\"error: you did not enter the right number of answers or used the wrong format\")\n",
    "\n",
    "#check the exam\n",
    "num_questions = len(Correct_answers)\n",
    "num_user_correct_answers = 0\n",
    "results = \"\"\n",
    "\n",
    "for i in range(num_questions):\n",
    "    if user_answers[i] == Correct_answers[i]:\n",
    "        num_user_correct_answers += 1\n",
    "        results += user_answers[i]\n",
    "    else:\n",
    "        results += \"X\"\n",
    "\n",
    "#Grade the exam\n",
    "\n",
    "score = round(num_user_correct_answers / num_questions *100)\n",
    "if score == 100:\n",
    "    print(\"Great Job! you got all of the questions correct\")\n",
    "else:\n",
    "    print(\"you missed\", num_questions - num_user_correct_answers, results)\n",
    "print(\"Your score was\", score)\n"
   ]
  },
  {
   "cell_type": "markdown",
   "metadata": {},
   "source": [
    "This program simulates tosses of a pair of dice "
   ]
  },
  {
   "cell_type": "code",
   "execution_count": 8,
   "metadata": {},
   "outputs": [
    {
     "name": "stdout",
     "output_type": "stream",
     "text": [
      "5 3\n",
      "2 5\n",
      "6 3\n",
      "5 1\n",
      "4 4\n",
      "3 6\n",
      "1 3\n",
      "2 4\n",
      "4 1\n",
      "3 2\n"
     ]
    }
   ],
   "source": [
    "for i in range(10):\n",
    "    d1 = randint(1,6)\n",
    "    d2 = randint(1,6)\n",
    "    print(d1, d2)"
   ]
  },
  {
   "cell_type": "code",
   "execution_count": null,
   "metadata": {},
   "outputs": [],
   "source": []
  }
 ],
 "metadata": {
  "kernelspec": {
   "display_name": "Python 3",
   "language": "python",
   "name": "python3"
  },
  "language_info": {
   "codemirror_mode": {
    "name": "ipython",
    "version": 3
   },
   "file_extension": ".py",
   "mimetype": "text/x-python",
   "name": "python",
   "nbconvert_exporter": "python",
   "pygments_lexer": "ipython3",
   "version": "3.10.13"
  }
 },
 "nbformat": 4,
 "nbformat_minor": 2
}
